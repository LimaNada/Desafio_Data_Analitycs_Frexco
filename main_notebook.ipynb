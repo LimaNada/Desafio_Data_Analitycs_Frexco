{
 "cells": [
  {
   "cell_type": "code",
   "execution_count": 1,
   "metadata": {},
   "outputs": [],
   "source": [
    "import pandas as pd\n",
    "import warnings\n",
    "from statsmodels.tsa.arima.model import ARIMA"
   ]
  },
  {
   "cell_type": "code",
   "execution_count": 2,
   "metadata": {},
   "outputs": [],
   "source": [
    "# Importando e criando o DataFrame com os dados de vendas\n",
    "df = pd.read_excel(\"Dados.xlsx\")"
   ]
  },
  {
   "cell_type": "code",
   "execution_count": 3,
   "metadata": {},
   "outputs": [],
   "source": [
    "# Definindo a coluna de Data como índice\n",
    "df = df.set_index('Data')"
   ]
  },
  {
   "cell_type": "code",
   "execution_count": 4,
   "metadata": {},
   "outputs": [],
   "source": [
    "# Tirando o aviso padrão do ARIMA que pode aparecer em alguns computadores\n",
    "warnings.filterwarnings(\"ignore\")"
   ]
  },
  {
   "cell_type": "code",
   "execution_count": 5,
   "metadata": {},
   "outputs": [],
   "source": [
    "# Criando a estrutura pelo método ARIMA\n",
    "model = ARIMA(df, order=(1, 1, 1), freq='D')\n",
    "model_fit = model.fit()\n"
   ]
  },
  {
   "cell_type": "code",
   "execution_count": 6,
   "metadata": {},
   "outputs": [],
   "source": [
    "# Realizando a previsão para os próximos 5 dias\n",
    "previsao = model_fit.forecast(steps=5)"
   ]
  },
  {
   "cell_type": "code",
   "execution_count": 7,
   "metadata": {},
   "outputs": [],
   "source": [
    "# Criando um DataFrame com a previsão\n",
    "dataFP = pd.DataFrame(previsao)\n",
    "dataFP.columns = ['Previsão de Vendas']\n",
    "dataFP = dataFP.rename_axis(\"Data\", axis=1)"
   ]
  },
  {
   "cell_type": "code",
   "execution_count": 8,
   "metadata": {},
   "outputs": [],
   "source": [
    "# Formatando o DataFrame\n",
    "dataFP.index = dataFP.index.strftime('%d/%m/%Y')\n",
    "dataFP = dataFP.astype({\"Previsão de Vendas\": int})"
   ]
  },
  {
   "cell_type": "code",
   "execution_count": 9,
   "metadata": {},
   "outputs": [
    {
     "name": "stdout",
     "output_type": "stream",
     "text": [
      "Data        Previsão de Vendas\n",
      "21/01/2023                 842\n",
      "22/01/2023                 797\n",
      "23/01/2023                 777\n",
      "24/01/2023                 769\n",
      "25/01/2023                 765\n"
     ]
    }
   ],
   "source": [
    "# Exibindo a previsão de demanda para os próximos 5 dias\n",
    "print(dataFP)"
   ]
  }
 ],
 "metadata": {
  "kernelspec": {
   "display_name": "Python 3",
   "language": "python",
   "name": "python3"
  },
  "language_info": {
   "codemirror_mode": {
    "name": "ipython",
    "version": 3
   },
   "file_extension": ".py",
   "mimetype": "text/x-python",
   "name": "python",
   "nbconvert_exporter": "python",
   "pygments_lexer": "ipython3",
   "version": "3.11.0"
  },
  "orig_nbformat": 4,
  "vscode": {
   "interpreter": {
    "hash": "ebe0b94344c0f4b7f5f23c6264dd64bfe6fbc608d3c775e4a8d0508d40af3b3e"
   }
  }
 },
 "nbformat": 4,
 "nbformat_minor": 2
}
